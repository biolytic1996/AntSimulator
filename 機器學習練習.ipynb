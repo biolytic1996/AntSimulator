{
  "nbformat": 4,
  "nbformat_minor": 0,
  "metadata": {
    "colab": {
      "name": "機器學習練習",
      "provenance": [],
      "authorship_tag": "ABX9TyOI/Q2uUYrWTfNFU7171Ct3",
      "include_colab_link": true
    },
    "kernelspec": {
      "name": "python3",
      "display_name": "Python 3"
    },
    "language_info": {
      "name": "python"
    }
  },
  "cells": [
    {
      "cell_type": "markdown",
      "metadata": {
        "id": "view-in-github",
        "colab_type": "text"
      },
      "source": [
        "<a href=\"https://colab.research.google.com/github/biolytic1996/AntSimulator/blob/master/%E6%A9%9F%E5%99%A8%E5%AD%B8%E7%BF%92%E7%B7%B4%E7%BF%92.ipynb\" target=\"_parent\"><img src=\"https://colab.research.google.com/assets/colab-badge.svg\" alt=\"Open In Colab\"/></a>"
      ]
    },
    {
      "cell_type": "markdown",
      "metadata": {
        "id": "YVYefSQSxuZd"
      },
      "source": [
        "**用sklearn做波士頓房價線性回歸**"
      ]
    },
    {
      "cell_type": "markdown",
      "metadata": {
        "id": "TeSs6QLZyC-O"
      },
      "source": [
        "**前置練習1 畫直線** <br>\n",
        "  先自己創建一組線性二維數據，且自己設定y=mx+b的m與b <br>\n",
        "  再用matplotlib做直線\n"
      ]
    },
    {
      "cell_type": "code",
      "metadata": {
        "id": "hy0L9_uREnOL",
        "colab": {
          "base_uri": "https://localhost:8080/",
          "height": 283
        },
        "outputId": "db2c1b7d-3433-4117-bc2b-e91b3a2f0642"
      },
      "source": [
        "import numpy as np   #引入numpy資源庫\n",
        "import matplotlib.pyplot as plt  #引入matplotlib資源庫\n",
        "x=np.linspace(0,5,50)  #x軸在0-50之間產生50個點\n",
        "y=1.5*x+0.8  #斜率設1.5\n",
        "plt.scatter(x,y) # 下圖藍色點狀圖\n",
        "plt.plot(x,y,'r') # 直線形式(紅色)\n"
      ],
      "execution_count": 5,
      "outputs": [
        {
          "output_type": "execute_result",
          "data": {
            "text/plain": [
              "[<matplotlib.lines.Line2D at 0x7fc68b352390>]"
            ]
          },
          "metadata": {},
          "execution_count": 5
        },
        {
          "output_type": "display_data",
          "data": {
            "image/png": "[encoded data removed]",
            "text/plain": [
              "<Figure size 432x288 with 1 Axes>"
            ]
          },
          "metadata": {
            "needs_background": "light"
          }
        }
      ]
    },
    {
      "cell_type": "markdown",
      "metadata": {
        "id": "T-vo2HeU4UQS"
      },
      "source": [
        ""
      ]
    },
    {
      "cell_type": "code",
      "metadata": {
        "colab": {
          "base_uri": "https://localhost:8080/",
          "height": 283
        },
        "id": "gb7e2zqT3lQi",
        "outputId": "863c3f41-7b01-43da-bfb8-36402aeec1cd"
      },
      "source": [
        "y1=1.5*x+0.8+np.random.randn(50) # 因為x軸有50個點，每個點都要加上偏移，所以加上50個隨機偏移\n",
        "plt.scatter(x,y1)"
      ],
      "execution_count": 6,
      "outputs": [
        {
          "output_type": "execute_result",
          "data": {
            "text/plain": [
              "<matplotlib.collections.PathCollection at 0x7fc68b13ef90>"
            ]
          },
          "metadata": {},
          "execution_count": 6
        },
        {
          "output_type": "display_data",
          "data": {
            "image/png": "[encoded data removed]",
            "text/plain": [
              "<Figure size 432x288 with 1 Axes>"
            ]
          },
          "metadata": {
            "needs_background": "light"
          }
        }
      ]
    },
    {
      "cell_type": "code",
      "metadata": {
        "id": "ZHgyvYdv1Kmp"
      },
      "source": [
        ""
      ],
      "execution_count": null,
      "outputs": []
    }
  ]
}